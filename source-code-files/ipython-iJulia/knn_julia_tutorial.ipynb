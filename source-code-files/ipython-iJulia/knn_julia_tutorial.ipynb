{
 "metadata": {
  "language": "Julia",
  "name": ""
 },
 "nbformat": 3,
 "nbformat_minor": 0,
 "worksheets": [
  {
   "cells": [
    {
     "cell_type": "heading",
     "level": 1,
     "metadata": {},
     "source": [
      "Loading Data"
     ]
    },
    {
     "cell_type": "code",
     "collapsed": false,
     "input": [
      "Pkg.add(\"Images\")\n",
      "Pkg.add(\"DataFrames\")\n",
      "using Images\n",
      "using DataFrames\n",
      "\n",
      "#typeData could be either \"train\" or \"test.\n",
      "#labelsInfo should contain the IDs of each image to be read\n",
      "#The images in the trainResized and testResized data files\n",
      "#are 20x20 pixels, so imageSize is set to 400.\n",
      "#path should be set to the location of the data files.\n",
      "\n",
      "function read_data(typeData, labelsInfo, imageSize, path)\n",
      " #Intialize x matrix\n",
      " x = zeros(size(labelsInfo, 1), imageSize)\n",
      "\n",
      " for (index, idImage) in enumerate(labelsInfo[\"ID\"]) \n",
      "  #Read image file \n",
      "  nameFile = \"$(path)/$(typeData)Resized/$(idImage).Bmp\"\n",
      "  img = imread(nameFile)\n",
      "\n",
      "  #Convert img to float values \n",
      "  temp = float32sc(img)\n",
      "\n",
      "  #Convert color images to gray images\n",
      "  #by taking the average of the color scales. \n",
      "  if ndims(temp) == 3\n",
      "   temp = mean(temp.data, 1)\n",
      "  end\n",
      "    \n",
      "  #Transform image matrix to a vector and store \n",
      "  #it in data matrix \n",
      "  x[index, :] = reshape(temp, 1, imageSize)\n",
      " end \n",
      " return x\n",
      "end\n",
      "\n",
      "imageSize = 400 # 20 x 20 pixel\n",
      "\n",
      "#Set location of data files, folders\n",
      "path = ...\n",
      "\n",
      "#Read information about training data , IDs.\n",
      "labelsInfoTrain = readtable(\"$(path)/trainLabels.csv\")\n",
      "\n",
      "#Read training matrix\n",
      "xTrain = read_data(\"train\", labelsInfoTrain, imageSize, path)\n",
      "\n",
      "#Read information about test data ( IDs ).\n",
      "labelsInfoTest = readtable(\"$(path)/sampleSubmission.csv\")\n",
      "\n",
      "#Read test matrix\n",
      "xTest = read_data(\"test\", labelsInfoTest, imageSize, path)\n",
      "\n",
      "#Get only first character of string (convert from string to character).\n",
      "#Apply the function to each element of the column \"Class\"\n",
      "yTrain = map(x -> x[1], labelsInfoTrain[\"Class\"])\n",
      "\n",
      "#Convert from character to integer\n",
      "yTrain = int(yTrain)\n",
      "\n",
      "xTrain = xTrain'\n",
      "xTest = xTest'"
     ],
     "language": "python",
     "metadata": {},
     "outputs": [
      {
       "output_type": "stream",
       "stream": "stderr",
       "text": [
        "INFO: "
       ]
      },
      {
       "output_type": "stream",
       "stream": "stderr",
       "text": [
        "Nothing to be done.\n"
       ]
      },
      {
       "output_type": "stream",
       "stream": "stderr",
       "text": [
        "INFO: Nothing to be done.\n"
       ]
      },
      {
       "output_type": "stream",
       "stream": "stderr",
       "text": [
        "Warning: New definition \n",
        "    scale(ScaleNone{T<:Integer},S<:FloatingPoint) at C:\\Users\\Luis Tandalla\\.julia\\v0.2\\Images\\src\\scaling.jl:49\n",
        "is ambiguous with: \n",
        "    scale(ScaleNone{T<:Real},T<:Real) at C:\\Users\\Luis Tandalla\\.julia\\v0.2\\Images\\src\\scaling.jl:46.\n",
        "To fix, define \n",
        "    scale(ScaleNone{_<:Integer},_<:Integer)"
       ]
      },
      {
       "output_type": "stream",
       "stream": "stderr",
       "text": [
        "\n",
        "before the new definition.\n",
        "Warning: New definition \n",
        "    .==(AbstractArray{T,N},DataArray{T,N}) at C:\\Users\\Luis Tandalla\\.julia\\v0.2\\DataArrays\\src\\operators.jl:335\n",
        "is ambiguous with: \n",
        "    .==(AbstractImageDirect{Bool,N},AbstractArray{Bool,N}) at C:\\Users\\Luis Tandalla\\.julia\\v0.2\\Images\\src\\algorithms.jl:74.\n",
        "To fix, define \n",
        "    .==(AbstractImageDirect{Bool,N},DataArray{Bool,N})\n",
        "before the new definition.\n",
        "Warning: New definition \n",
        "    .==(AbstractArray{T,N},DataArray{T,N}) at C:\\Users\\Luis Tandalla\\.julia\\v0.2\\DataArrays\\src\\operators.jl:335\n",
        "is ambiguous with: \n",
        "    .==(AbstractImageDirect{T,N},AbstractArray{T,N}) at C:\\Users\\Luis Tandalla\\.julia\\v0.2\\Images\\src\\algorithms.jl:75.\n",
        "To fix, define \n",
        "    .==(AbstractImageDirect{T,N},DataArray{T,N})\n",
        "before the new definition.\n",
        "Warning: New definition \n",
        "    .==(AbstractArray{T,N},AbstractDataArray{T,N}) at C:\\Users\\Luis Tandalla\\.julia\\v0.2\\DataArrays\\src\\operators.jl:356\n",
        "is ambiguous with: \n",
        "    .==(AbstractImageDirect{Bool,N},AbstractArray{Bool,N}) at C:\\Users\\Luis Tandalla\\.julia\\v0.2\\Images\\src\\algorithms.jl:74.\n",
        "To fix, define \n",
        "    .==(AbstractImageDirect{Bool,N},AbstractDataArray{Bool,N})\n",
        "before the new definition.\n",
        "Warning: New definition \n",
        "    .==(AbstractArray{T,N},AbstractDataArray{T,N}) at C:\\Users\\Luis Tandalla\\.julia\\v0.2\\DataArrays\\src\\operators.jl:356\n",
        "is ambiguous with: \n",
        "    .==(AbstractImageDirect{T,N},AbstractArray{T,N}) at C:\\Users\\Luis Tandalla\\.julia\\v0.2\\Images\\src\\algorithms.jl:75.\n",
        "To fix, define \n",
        "    .==(AbstractImageDirect{T,N},AbstractDataArray{T,N})\n",
        "before the new definition.\n",
        "Warning: New definition \n",
        "    .>(AbstractArray{T,N},DataArray{T,N}) at C:\\Users\\Luis Tandalla\\.julia\\v0.2\\DataArrays\\src\\operators.jl:335\n",
        "is ambiguous with: \n",
        "    .>(AbstractImageDirect{T,N},AbstractArray{T,N}) at C:\\Users\\Luis Tandalla\\.julia\\v0.2\\Images\\src\\algorithms.jl:72.\n",
        "To fix, define \n",
        "    .>(AbstractImageDirect{T,N},DataArray{T,N})\n",
        "before the new definition.\n",
        "Warning: New definition \n",
        "    .>(AbstractArray{T,N},AbstractDataArray{T,N}) at C:\\Users\\Luis Tandalla\\.julia\\v0.2\\DataArrays\\src\\operators.jl:356\n",
        "is ambiguous with: \n",
        "    .>(AbstractImageDirect{T,N},AbstractArray{T,N}) at C:\\Users\\Luis Tandalla\\.julia\\v0.2\\Images\\src\\algorithms.jl:72.\n",
        "To fix, define \n",
        "    .>(AbstractImageDirect{T,N},AbstractDataArray{T,N})"
       ]
      },
      {
       "output_type": "stream",
       "stream": "stderr",
       "text": [
        "\n",
        "before the new definition.\n",
        "Warning: New definition \n",
        "    .<(AbstractArray{T,N},DataArray{T,N}) at C:\\Users\\Luis Tandalla\\.julia\\v0.2\\DataArrays\\src\\operators.jl:335\n",
        "is ambiguous with: \n",
        "    .<(AbstractImageDirect{Bool,N},AbstractArray{Bool,N}) at C:\\Users\\Luis Tandalla\\.julia\\v0.2\\Images\\src\\algorithms.jl:70.\n",
        "To fix, define \n",
        "    .<(AbstractImageDirect{Bool,N},DataArray{Bool,N})\n",
        "before the new definition.\n",
        "Warning: New definition \n",
        "    .<(AbstractArray{T,N},DataArray{T,N}) at C:\\Users\\Luis Tandalla\\.julia\\v0.2\\DataArrays\\src\\operators.jl:335\n",
        "is ambiguous with: \n",
        "    .<(AbstractImageDirect{T,N},AbstractArray{T,N}) at C:\\Users\\Luis Tandalla\\.julia\\v0.2\\Images\\src\\algorithms.jl:71.\n",
        "To fix, define \n",
        "    .<(AbstractImageDirect{T,N},DataArray{T,N})\n",
        "before the new definition.\n",
        "Warning: New definition \n",
        "    .<(AbstractArray{T,N},AbstractDataArray{T,N}) at C:\\Users\\Luis Tandalla\\.julia\\v0.2\\DataArrays\\src\\operators.jl:356\n",
        "is ambiguous with: \n",
        "    .<(AbstractImageDirect{Bool,N},AbstractArray{Bool,N}) at C:\\Users\\Luis Tandalla\\.julia\\v0.2\\Images\\src\\algorithms.jl:70.\n",
        "To fix, define \n",
        "    .<(AbstractImageDirect{Bool,N},AbstractDataArray{Bool,N})\n",
        "before the new definition.\n",
        "Warning: New definition \n",
        "    .<(AbstractArray{T,N},AbstractDataArray{T,N}) at C:\\Users\\Luis Tandalla\\.julia\\v0.2\\DataArrays\\src\\operators.jl:356\n",
        "is ambiguous with: \n",
        "    .<(AbstractImageDirect{T,N},AbstractArray{T,N}) at C:\\Users\\Luis Tandalla\\.julia\\v0.2\\Images\\src\\algorithms.jl:71.\n",
        "To fix, define \n",
        "    .<(AbstractImageDirect{T,N},AbstractDataArray{T,N})"
       ]
      },
      {
       "output_type": "stream",
       "stream": "stderr",
       "text": [
        "\n",
        "before the new definition.\n",
        "Warning: New definition \n",
        "    +(AbstractArray{T,N},DataArray{T,N}) at C:\\Users\\Luis Tandalla\\.julia\\v0.2\\DataArrays\\src\\operators.jl:335\n",
        "is ambiguous with: \n",
        "    +(AbstractImageDirect{T,N},AbstractArray{T,N}) at C:\\Users\\Luis Tandalla\\.julia\\v0.2\\Images\\src\\algorithms.jl:12.\n",
        "To fix, define \n",
        "    +(AbstractImageDirect{T,N},DataArray{T,N})\n",
        "before the new definition.\n",
        "Warning: New definition \n",
        "    +(AbstractArray{T,N},AbstractDataArray{T,N}) at C:\\Users\\Luis Tandalla\\.julia\\v0.2\\DataArrays\\src\\operators.jl:356\n",
        "is ambiguous with: \n",
        "    +(AbstractImageDirect{T,N},AbstractArray{T,N}) at C:\\Users\\Luis Tandalla\\.julia\\v0.2\\Images\\src\\algorithms.jl:12.\n",
        "To fix, define \n",
        "    +(AbstractImageDirect{T,N},AbstractDataArray{T,N})\n",
        "before the new definition.\n",
        "Warning: New definition \n",
        "    .+(AbstractArray{T,N},DataArray{T,N}) at C:\\Users\\Luis Tandalla\\.julia\\v0.2\\DataArrays\\src\\operators.jl:335\n",
        "is ambiguous with: \n",
        "    .+(AbstractImageDirect{T,N},AbstractArray{T,N}) at C:\\Users\\Luis Tandalla\\.julia\\v0.2\\Images\\src\\algorithms.jl:14.\n",
        "To fix, define \n",
        "    .+(AbstractImageDirect{T,N},DataArray{T,N})\n",
        "before the new definition.\n",
        "Warning: New definition \n",
        "    .+(AbstractArray{T,N},AbstractDataArray{T,N}) at C:\\Users\\Luis Tandalla\\.julia\\v0.2\\DataArrays\\src\\operators.jl:356\n",
        "is ambiguous with: \n",
        "    .+(AbstractImageDirect{T,N},AbstractArray{T,N}) at C:\\Users\\Luis Tandalla\\.julia\\v0.2\\Images\\src\\algorithms.jl:14.\n",
        "To fix, define \n",
        "    .+(AbstractImageDirect{T,N},AbstractDataArray{T,N})\n",
        "before the new definition.\n",
        "Warning: New definition \n",
        "    -(AbstractArray{T,N},DataArray{T,N}) at C:\\Users\\Luis Tandalla\\.julia\\v0.2\\DataArrays\\src\\operators.jl:335\n",
        "is ambiguous with: \n",
        "    -(AbstractImageDirect{T,N},AbstractArray{T,N}) at C:\\Users\\Luis Tandalla\\.julia\\v0.2\\Images\\src\\algorithms.jl:21.\n",
        "To fix, define \n",
        "    -(AbstractImageDirect{T,N},DataArray{T,N})\n",
        "before the new definition.\n",
        "Warning: New definition \n",
        "    -(AbstractArray{T,N},AbstractDataArray{T,N}) at C:\\Users\\Luis Tandalla\\.julia\\v0.2\\DataArrays\\src\\operators.jl:356\n",
        "is ambiguous with: \n",
        "    -(AbstractImageDirect{T,N},AbstractArray{T,N}) at C:\\Users\\Luis Tandalla\\.julia\\v0.2\\Images\\src\\algorithms.jl:21.\n",
        "To fix, define \n",
        "    -(AbstractImageDirect{T,N},AbstractDataArray{T,N})\n",
        "before the new definition.\n",
        "Warning: New definition \n",
        "    .-(AbstractArray{T,N},DataArray{T,N}) at C:\\Users\\Luis Tandalla\\.julia\\v0.2\\DataArrays\\src\\operators.jl:335\n",
        "is ambiguous with: \n",
        "    .-(AbstractImageDirect{T,N},AbstractArray{T,N}) at C:\\Users\\Luis Tandalla\\.julia\\v0.2\\Images\\src\\algorithms.jl:24.\n",
        "To fix, define \n",
        "    .-(AbstractImageDirect{T,N},DataArray{T,N})\n",
        "before the new definition.\n",
        "Warning: New definition \n",
        "    .-(AbstractArray{T,N},AbstractDataArray{T,N}) at C:\\Users\\Luis Tandalla\\.julia\\v0.2\\DataArrays\\src\\operators.jl:356\n",
        "is ambiguous with: \n",
        "    .-(AbstractImageDirect{T,N},AbstractArray{T,N}) at C:\\Users\\Luis Tandalla\\.julia\\v0.2\\Images\\src\\algorithms.jl:24.\n",
        "To fix, define \n",
        "    .-(AbstractImageDirect{T,N},AbstractDataArray{T,N})\n",
        "before the new definition.\n",
        "Warning: New definition \n",
        "    .*(DataArray{T,N},AbstractArray{T,N}) at C:\\Users\\Luis Tandalla\\.julia\\v0.2\\DataArrays\\src\\operators.jl:335\n",
        "is ambiguous with: \n",
        "    .*(AbstractArray{T,N},AbstractImageDirect{T,N}) at C:\\Users\\Luis Tandalla\\.julia\\v0.2\\Images\\src\\algorithms.jl:36.\n",
        "To fix, define \n",
        "    .*(DataArray{T,N},AbstractImageDirect{T,N})\n",
        "before the new definition.\n",
        "Warning: New definition \n",
        "    .*(AbstractArray{T,N},DataArray{T,N}) at C:\\Users\\Luis Tandalla\\.julia\\v0.2\\DataArrays\\src\\operators.jl:335\n",
        "is ambiguous with: \n",
        "    .*(AbstractImageDirect{T,N},AbstractArray{T,N}) at C:\\Users\\Luis Tandalla\\.julia\\v0.2\\Images\\src\\algorithms.jl:35.\n",
        "To fix, define \n",
        "    .*(AbstractImageDirect{T,N},DataArray{T,N})\n",
        "before the new definition.\n",
        "Warning: New definition \n",
        "    .*(AbstractDataArray{T,N},AbstractArray{T,N}) at C:\\Users\\Luis Tandalla\\.julia\\v0.2\\DataArrays\\src\\operators.jl:356\n",
        "is ambiguous with: \n",
        "    .*(AbstractArray{T,N},AbstractImageDirect{T,N}) at C:\\Users\\Luis Tandalla\\.julia\\v0.2\\Images\\src\\algorithms.jl:36.\n",
        "To fix, define \n",
        "    .*(AbstractDataArray{T,N},AbstractImageDirect{T,N})\n",
        "before the new definition.\n",
        "Warning: New definition \n",
        "    .*(AbstractArray{T,N},AbstractDataArray{T,N}) at C:\\Users\\Luis Tandalla\\.julia\\v0.2\\DataArrays\\src\\operators.jl:356\n",
        "is ambiguous with: \n",
        "    .*(AbstractImageDirect{T,N},AbstractArray{T,N}) at C:\\Users\\Luis Tandalla\\.julia\\v0.2\\Images\\src\\algorithms.jl:35.\n",
        "To fix, define \n",
        "    .*(AbstractImageDirect{T,N},AbstractDataArray{T,N})"
       ]
      },
      {
       "output_type": "stream",
       "stream": "stderr",
       "text": [
        "\n",
        "before the new definition.\n",
        "Warning: New definition \n",
        "    ./(AbstractArray{T,N},DataArray{T,N}) at C:\\Users\\Luis Tandalla\\.julia\\v0.2\\DataArrays\\src\\operators.jl:335\n",
        "is ambiguous with: \n",
        "    ./(AbstractImageDirect{T,N},AbstractArray{T,N}) at C:\\Users\\Luis Tandalla\\.julia\\v0.2\\Images\\src\\algorithms.jl:39.\n",
        "To fix, define \n",
        "    ./(AbstractImageDirect{T,N},DataArray{T,N})\n",
        "before the new definition.\n",
        "Warning: New definition \n",
        "    ./(AbstractArray{T,N},AbstractDataArray{T,N}) at C:\\Users\\Luis Tandalla\\.julia\\v0.2\\DataArrays\\src\\operators.jl:356\n",
        "is ambiguous with: \n",
        "    ./(AbstractImageDirect{T,N},AbstractArray{T,N}) at C:\\Users\\Luis Tandalla\\.julia\\v0.2\\Images\\src\\algorithms.jl:39.\n",
        "To fix, define \n",
        "    ./(AbstractImageDirect{T,N},AbstractDataArray{T,N})"
       ]
      },
      {
       "metadata": {},
       "output_type": "pyout",
       "prompt_number": 1,
       "text": [
        "400x6220 Array{Float64,2}:\n",
        " 0.470588  0.284967  0.115033  0.586928  \u2026  0.379085  0.626144  0.437909\n",
        " 0.469281  0.291503  0.15817   0.546405     0.393464  0.59085   0.462745\n",
        " 0.46536   0.315033  0.160784  0.571242     0.396078  0.639216  0.431373\n",
        " 0.469281  0.30719   0.162092  0.526797     0.397386  0.607843  0.413072\n",
        " 0.462745  0.31634   0.162092  0.569935     0.393464  0.597386  0.389542\n",
        " 0.456209  0.346405  0.162092  0.603922  \u2026  0.392157  0.597386  0.392157\n",
        " 0.48366   0.355556  0.166013  0.562092     0.396078  0.602614  0.431373\n",
        " 0.48366   0.342484  0.16732   0.571242     0.381699  0.6       0.512418\n",
        " 0.470588  0.34902   0.168627  0.535948     0.384314  0.620915  0.694118\n",
        " 0.48366   0.372549  0.164706  0.560784     0.389542  0.631373  0.819608\n",
        " 0.479739  0.372549  0.164706  0.581699  \u2026  0.393464  0.6       0.862745\n",
        " 0.477124  0.385621  0.164706  0.589543     0.384314  0.635294  0.870588\n",
        " 0.47451   0.396078  0.163399  0.586928     0.396078  0.611765  0.803922\n",
        " \u22ee                                       \u22f1                              \n",
        " 0.486275  0.456209  0.162092  0.484967     0.380392  0.618301  0.443137\n",
        " 0.494118  0.46536   0.159477  0.373856     0.379085  0.613072  0.456209\n",
        " 0.509804  0.449673  0.15817   0.252288  \u2026  0.376471  0.630065  0.435294\n",
        " 0.501961  0.448366  0.155556  0.28366      0.368627  0.601307  0.464052\n",
        " 0.501961  0.453595  0.151634  0.237908     0.369935  0.624837  0.464052\n",
        " 0.498039  0.454902  0.147712  0.237908     0.376471  0.594771  0.464052\n",
        " 0.498039  0.454902  0.146405  0.262745     0.373856  0.624837  0.453595\n",
        " 0.508497  0.444445  0.146405  0.257516  \u2026  0.36732   0.610457  0.445752\n",
        " 0.50719   0.454902  0.147712  0.394771     0.369935  0.598693  0.413072\n",
        " 0.504575  0.435294  0.147712  0.552941     0.381699  0.652288  0.520261\n",
        " 0.499346  0.287582  0.147712  0.576471     0.381699  0.568627  0.623529\n",
        " 0.490196  0.301961  0.105882  0.581699     0.368627  0.563399  0.420915"
       ]
      }
     ],
     "prompt_number": 1
    },
    {
     "cell_type": "heading",
     "level": 1,
     "metadata": {},
     "source": [
      "Defining main functions"
     ]
    },
    {
     "cell_type": "code",
     "collapsed": false,
     "input": [
      "function euclidean_distance(a, b)\n",
      " distance = 0.0 \n",
      " for index in 1:size(a, 1) \n",
      "  distance += (a[index]-b[index]) * (a[index]-b[index])\n",
      " end\n",
      " return distance\n",
      "end\n",
      "\n",
      "#This function finds the k nearest neighbors of the ith data point.\n",
      "function get_k_nearest_neighbors(x, i, k)\n",
      "\n",
      " nRows, nCols = size(x)\n",
      "\n",
      " #Let's initialize a vector image_i. We do this so that \n",
      " #the image ith is accessed only once from the main X matrix.\n",
      " #The program saves time because no repeated work is done.\n",
      " #Also, creating an empty vector and filling it with each \n",
      " #element at a time is faster than copying the entire vector at once.\n",
      " #Creating empty array (vector) of nRows elements of type Float32(decimal)\n",
      " imageI = Array(Float32, nRows) \n",
      "\n",
      " for index in 1:nRows\n",
      "  imageI[index] = x[index, i]\n",
      " end\n",
      "\n",
      " #For the same previous reasons, we initialize an empty vector \n",
      " #that will contain the jth data point\n",
      " imageJ = Array(Float32, nRows)\n",
      " \n",
      " #Let's also initialize an empty vector that will contain the distances\n",
      " #between the ith data point and each data point in the X matrix.\n",
      " distances = Array(Float32, nCols)\n",
      " \n",
      " for j in 1:nCols\n",
      "  #The next for loop fills the vector image_j with the jth data point \n",
      "  #from the main matrix. Copying element one by one is faster\n",
      "  #than copying the entire vector at once.\n",
      "  for index in 1:nRows\n",
      "   imageJ[index] = x[index, j]\n",
      "  end\n",
      "  #Let's calculate the distance and save the result\n",
      "  distances[j] = euclidean_distance(imageI, imageJ)\n",
      " end\n",
      " \n",
      " #The following line gives the indices sorted by distances.\n",
      " sortedNeighbors = sortperm(distances)\n",
      " \n",
      " #Let's select the k nearest neighbors. We start with the \n",
      " #second closest. See explanation below.\n",
      " kNearestNeighbors = sortedNeighbors[2:k+1]\n",
      " return kNearestNeighbors\n",
      "end\n",
      "\n",
      "#This function assigns a label to the ith point according to\n",
      "#the labels of the k nearest neighbors. The training\n",
      "#data is stored in the X matrix, and its labels are stored in y.\n",
      "\n",
      "function assign_label(x, y, k, i)\n",
      " kNearestNeighbors = get_k_nearest_neighbors(x, i, k)\n",
      " \n",
      " #let's make a dictionary to save the counts of \n",
      " #the labels\n",
      " # Dict{}() is also right .\n",
      " # Int,Int indicates the dictionary to expect integer values \n",
      " counts = Dict{Int, Int}() \n",
      "\n",
      " #The next two variables keep track of the \n",
      " #label with the highest count.\n",
      " highestCount = 0\n",
      " mostPopularLabel = 0\n",
      "\n",
      " #Iterating over the labels of the k nearest neighbors\n",
      " for n in kNearestNeighbors\n",
      "  labelOfN = y[n]\n",
      "  #Adding the current label to our dictionary\n",
      "  #if it's not already there\n",
      "  if !haskey(counts, labelOfN)\n",
      "   counts[labelOfN] = 0\n",
      "  end\n",
      "  #Add one to the count\n",
      "  counts[labelOfN] += 1 \n",
      "\n",
      "  if counts[labelOfN] > highestCount\n",
      "   highestCount = counts[labelOfN]\n",
      "   mostPopularLabel = labelOfN\n",
      "  end \n",
      " end\n",
      " return mostPopularLabel\n",
      "end"
     ],
     "language": "python",
     "metadata": {},
     "outputs": [
      {
       "metadata": {},
       "output_type": "pyout",
       "prompt_number": 2,
       "text": [
        "assign_label (generic function with 1 method)"
       ]
      },
      {
       "output_type": "stream",
       "stream": "stderr",
       "text": [
        "\n",
        "before the new definition.\n"
       ]
      }
     ],
     "prompt_number": 2
    },
    {
     "cell_type": "heading",
     "level": 1,
     "metadata": {},
     "source": [
      "Running LOOF-CV with 1NN sequentially"
     ]
    },
    {
     "cell_type": "code",
     "collapsed": false,
     "input": [
      "tic()\n",
      "k=1 \n",
      "yPredictions = [assign_label(xTrain, yTrain, k, i) for i in 1:size(xTrain, 2)]\n",
      "loofCvAccuracy = mean(yPredictions .== yTrain) \n",
      "println(\"The LOOF-CV accuracy of 1NN is $(loofCvAccuracy)\")\n",
      "toc()"
     ],
     "language": "python",
     "metadata": {},
     "outputs": [
      {
       "output_type": "stream",
       "stream": "stdout",
       "text": [
        "The LOOF-CV accuracy of 1NN is 0.42798026420499763"
       ]
      },
      {
       "output_type": "stream",
       "stream": "stdout",
       "text": [
        "\n",
        "elapsed time: 89.379442979 seconds\n"
       ]
      },
      {
       "metadata": {},
       "output_type": "pyout",
       "prompt_number": 3,
       "text": [
        "89.379442979"
       ]
      }
     ],
     "prompt_number": 3
    },
    {
     "cell_type": "heading",
     "level": 1,
     "metadata": {},
     "source": [
      "Preparing Julia to run in parallel"
     ]
    },
    {
     "cell_type": "code",
     "collapsed": false,
     "input": [
      "addprocs(3) \n",
      "\n",
      "@everywhere function euclidean_distance(a, b)\n",
      " distance = 0.0 \n",
      " for index in 1:size(a, 1) \n",
      "  distance += (a[index]-b[index]) * (a[index]-b[index])\n",
      " end\n",
      " return distance\n",
      "end\n",
      "\n",
      "@everywhere function get_k_nearest_neighbors(x, i, k)\n",
      " nRows, nCols = size(x)\n",
      " imageI = Array(Float32, nRows)\n",
      " for index in 1:nRows\n",
      "  imageI[index] = x[index, i]\n",
      " end\n",
      " imageJ = Array(Float32, nRows)\n",
      " distances = Array(Float32, nCols) \n",
      " for j in 1:nCols\n",
      "  for index in 1:nRows\n",
      "   imageJ[index] = x[index, j]\n",
      "  end\n",
      "  distances[j] = euclidean_distance(imageI, imageJ)\n",
      " end\n",
      " sortedNeighbors = sortperm(distances)\n",
      " kNearestNeighbors = sortedNeighbors[2:k+1]\n",
      " return kNearestNeighbors\n",
      "end \n",
      "\n",
      "@everywhere function assign_label(x, y, k, i)\n",
      " kNearestNeighbors = get_k_nearest_neighbors(x, i, k) \n",
      " counts = Dict{Int, Int}() \n",
      " highestCount = 0\n",
      " mostPopularLabel = 0\n",
      " for n in kNearestNeighbors\n",
      "  labelOfN = y[n]\n",
      "  if !haskey(counts, labelOfN)\n",
      "   counts[labelOfN] = 0\n",
      "  end\n",
      "  counts[labelOfN] += 1 \n",
      "  if counts[labelOfN] > highestCount\n",
      "   highestCount = counts[labelOfN]\n",
      "   mostPopularLabel = labelOfN\n",
      "  end \n",
      " end\n",
      " return mostPopularLabel\n",
      "end"
     ],
     "language": "python",
     "metadata": {},
     "outputs": [],
     "prompt_number": 4
    },
    {
     "cell_type": "heading",
     "level": 1,
     "metadata": {},
     "source": [
      "Running LOOF-CV with 1NN in parallel"
     ]
    },
    {
     "cell_type": "code",
     "collapsed": false,
     "input": [
      "tic()\n",
      "k = 1\n",
      "yPredictions = @parallel (vcat) for i in 1:size(xTrain, 2)\n",
      " assign_label(xTrain, yTrain, k, i)\n",
      "end\n",
      "loofCvAccuracy = mean(yPredictions .== yTrain) \n",
      "println(\"The LOOF-CV accuracy of 1NN is $(loofCvAccuracy)\")\n",
      "toc()"
     ],
     "language": "python",
     "metadata": {},
     "outputs": [
      {
       "output_type": "stream",
       "stream": "stdout",
       "text": [
        "The LOOF-CV accuracy of 1NN is 0.42798026420499763"
       ]
      },
      {
       "output_type": "stream",
       "stream": "stdout",
       "text": [
        "\n",
        "elapsed time: 45.727314347 seconds\n"
       ]
      },
      {
       "metadata": {},
       "output_type": "pyout",
       "prompt_number": 5,
       "text": [
        "45.727314347"
       ]
      }
     ],
     "prompt_number": 5
    },
    {
     "cell_type": "code",
     "collapsed": false,
     "input": [
      "tic()\n",
      "k = 1\n",
      "sumValues = @parallel (+) for i in 1:size(xTrain, 2)\n",
      " assign_label(xTrain, yTrain, k, i) == yTrain[i, 1]\n",
      "end\n",
      "loofCvAccuracy = sumValues / size(xTrain, 2)\n",
      "println(\"The LOOF-CV accuracy of 1NN is $(loofCvAccuracy)\")\n",
      "toc()"
     ],
     "language": "python",
     "metadata": {},
     "outputs": [
      {
       "output_type": "stream",
       "stream": "stdout",
       "text": [
        "elapsed time: "
       ]
      },
      {
       "output_type": "stream",
       "stream": "stdout",
       "text": [
        "45.046256153 seconds\n"
       ]
      },
      {
       "metadata": {},
       "output_type": "pyout",
       "prompt_number": 6,
       "text": [
        "45.046256153"
       ]
      }
     ],
     "prompt_number": 6
    },
    {
     "cell_type": "heading",
     "level": 1,
     "metadata": {},
     "source": [
      "Tuning the value for k"
     ]
    },
    {
     "cell_type": "code",
     "collapsed": false,
     "input": [
      "#Similar to function assign_label.\n",
      "#Only changes are commented\n",
      "@everywhere function assign_label_each_k(x, y, maxK, i)\n",
      " kNearestNeighbors = get_k_nearest_neighbors(x, i, maxK) \n",
      "\n",
      " #The next array will keep the labels for each value of k\n",
      " labelsK = zeros(Int, 1, maxK) \n",
      "\n",
      " counts = Dict{Int, Int}()\n",
      " highestCount = 0\n",
      " mostPopularLabel = 0\n",
      "\n",
      " #We need to keep track of the current value of k\n",
      " for (k, n) in enumerate(kNearestNeighbors)\n",
      "  labelOfN = y[n]\n",
      "  if !haskey(counts, labelOfN)\n",
      "   counts[labelOfN] = 0\n",
      "  end\n",
      "  counts[labelOfN] += 1\n",
      "  if counts[labelOfN] > highestCount\n",
      "   highestCount = counts[labelOfN]\n",
      "   mostPopularLabel = labelOfN  \n",
      "  end\n",
      "  #Save current most popular label \n",
      "  labelsK[k] = mostPopularLabel\n",
      " end\n",
      " #Return vector of labels for each k\n",
      " return labelsK\n",
      "end\n",
      "\n"
     ],
     "language": "python",
     "metadata": {},
     "outputs": [],
     "prompt_number": 8
    },
    {
     "cell_type": "code",
     "collapsed": false,
     "input": [
      "tic()\n",
      "maxK = 20 #Any value can be chosen\n",
      "yPredictionsK = @parallel (vcat) for i in 1:size(xTrain, 2)\n",
      " assign_label_each_k(xTrain, yTrain, maxK, i)\n",
      "end\n",
      "for k in 1:maxK\n",
      " accuracyK = mean(yTrain .== yPredictionsK[:, k])\n",
      " println(\"The LOOF-CV accuracy of $(k)-NN is $(accuracyK)\")\n",
      "end\n",
      "toc()"
     ],
     "language": "python",
     "metadata": {},
     "outputs": [
      {
       "output_type": "stream",
       "stream": "stdout",
       "text": [
        "The LOOF-CV accuracy of 1-NN is 0.42798026420499763"
       ]
      },
      {
       "output_type": "stream",
       "stream": "stdout",
       "text": [
        "\n",
        "The LOOF-CV accuracy of 2-NN is 0.42798026420499763\n",
        "The LOOF-CV accuracy of 3-NN is 0.4286169027534617\n",
        "The LOOF-CV accuracy of 4-NN is 0.4211363998090084\n",
        "The LOOF-CV accuracy of 5-NN is 0.41301925831609104\n",
        "The LOOF-CV accuracy of 6-NN is 0.40713035174279805\n",
        "The LOOF-CV accuracy of 7-NN is 0.3983765717014165\n",
        "The LOOF-CV accuracy of 8-NN is 0.3961483367817921\n",
        "The LOOF-CV accuracy of 9-NN is 0.3923285054910075\n",
        "The LOOF-CV accuracy of 10-NN is 0.3886678338373388\n",
        "The LOOF-CV accuracy of 11-NN is 0.3865987585548305\n",
        "The LOOF-CV accuracy of 12-NN is 0.38309724653827787\n",
        "The LOOF-CV accuracy of 13-NN is 0.378004138150565\n",
        "The LOOF-CV accuracy of 14-NN is 0.37657170141652074\n",
        "The LOOF-CV accuracy of 15-NN is 0.37593506286805667\n",
        "The LOOF-CV accuracy of 16-NN is 0.3729110297628521\n",
        "The LOOF-CV accuracy of 17-NN is 0.3695686773834156\n",
        "The LOOF-CV accuracy of 18-NN is 0.3679770810122553\n",
        "The LOOF-CV accuracy of 19-NN is 0.3692503581091835\n",
        "The LOOF-CV accuracy of 20-NN is 0.36718128282667517\n",
        "elapsed time: 85.727564674 seconds\n"
       ]
      },
      {
       "metadata": {},
       "output_type": "pyout",
       "prompt_number": 9,
       "text": [
        "85.727564674"
       ]
      }
     ],
     "prompt_number": 9
    },
    {
     "cell_type": "heading",
     "level": 1,
     "metadata": {},
     "source": [
      "Running kNN on the test data"
     ]
    },
    {
     "cell_type": "code",
     "collapsed": false,
     "input": [
      "@everywhere function get_k_nearest_neighbors(xTrain, imageI, k)\n",
      " nRows, nCols = size(xTrain) \n",
      " imageJ = Array(Float32, nRows)\n",
      " distances = Array(Float32, nCols) \n",
      " for j in 1:nCols\n",
      "  for index in 1:nRows\n",
      "   imageJ[index] = xTrain[index, j]\n",
      "  end\n",
      "  distances[j] = euclidean_distance(imageI, imageJ)\n",
      " end\n",
      " sortedNeighbors = sortperm(distances)\n",
      " kNearestNeighbors = sortedNeighbors[1:k]\n",
      " return kNearestNeighbors\n",
      "end \n",
      "\n",
      "@everywhere function assign_label(xTrain, yTrain, k, imageI)\n",
      " kNearestNeighbors = get_k_nearest_neighbors(xTrain, imageI, k) \n",
      " counts = Dict{Int, Int}() \n",
      " highestCount = 0\n",
      " mostPopularLabel = 0\n",
      " for n in kNearestNeighbors\n",
      "  labelOfN = yTrain[n]\n",
      "  if !haskey(counts, labelOfN)\n",
      "   counts[labelOfN] = 0\n",
      "  end\n",
      "  counts[labelOfN] += 1 #add one to the count\n",
      "  if counts[labelOfN] > highestCount\n",
      "   highestCount = counts[labelOfN]\n",
      "   mostPopularLabel = labelOfN\n",
      "  end \n",
      " end\n",
      " return mostPopularLabel\n",
      "end\n"
     ],
     "language": "python",
     "metadata": {},
     "outputs": [],
     "prompt_number": 10
    },
    {
     "cell_type": "code",
     "collapsed": false,
     "input": [
      "tic()\n",
      "k = 3 # The CV accuracy shows this value to be the best.\n",
      "yPredictions = @parallel (vcat) for i in 1:size(xTest, 2)\n",
      " nRows = size(xTrain, 1)\n",
      " imageI = Array(Float32, nRows)\n",
      " for index in 1:nRows\n",
      "  imageI[index] = xTest[index, i]\n",
      " end\n",
      " assign_label(xTrain, yTrain, k, imageI)\n",
      "end\n",
      "toc()"
     ],
     "language": "python",
     "metadata": {},
     "outputs": [
      {
       "output_type": "stream",
       "stream": "stdout",
       "text": [
        "elapsed time: "
       ]
      },
      {
       "output_type": "stream",
       "stream": "stdout",
       "text": [
        "46.272848076 seconds\n"
       ]
      },
      {
       "metadata": {},
       "output_type": "pyout",
       "prompt_number": 11,
       "text": [
        "46.272848076"
       ]
      }
     ],
     "prompt_number": 11
    },
    {
     "cell_type": "code",
     "collapsed": false,
     "input": [
      "#Convert integer predictions to character\n",
      "labelsInfoTest[\"Class\"] = char(yPredictions)\n",
      "\n",
      "#Save predictions\n",
      "writetable(\"$(path)/juliaKNNSubmission.csv\", labelsInfoTest, separator=',', header=true)\n",
      "println(\"Submission file saved in $(path)/juliaKNNSubmission.csv\")"
     ],
     "language": "python",
     "metadata": {},
     "outputs": [],
     "prompt_number": 12
    }
   ],
   "metadata": {}
  }
 ]
}