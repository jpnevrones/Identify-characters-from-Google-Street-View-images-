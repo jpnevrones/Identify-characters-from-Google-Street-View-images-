{
 "metadata": {
  "name": ""
 },
 "nbformat": 3,
 "nbformat_minor": 0,
 "worksheets": [
  {
   "cells": [
    {
     "cell_type": "heading",
     "level": 1,
     "metadata": {},
     "source": [
      "Loading Data"
     ]
    },
    {
     "cell_type": "code",
     "collapsed": false,
     "input": [
      "import pandas as pd \n",
      "from skimage.io import imread\n",
      "import numpy as np\n",
      "\n",
      "def read_data(typeData, labelsInfo, imageSize, path):\n",
      " #Intialize x  matrix\n",
      " x = np.zeros((labelsInfo.shape[0], imageSize))\n",
      "\n",
      " for (index, idImage) in enumerate(labelsInfo[\"ID\"]):\n",
      "  #Read image file\n",
      "  nameFile = \"{0}/{1}Resized/{2}.Bmp\".format(path, typeData, idImage)\n",
      "  img = imread(nameFile, as_grey=True)\n",
      "\n",
      "  x[index, :] = np.reshape(img, (1, imageSize))\n",
      " return x"
     ],
     "language": "python",
     "metadata": {},
     "outputs": [],
     "prompt_number": 1
    },
    {
     "cell_type": "code",
     "collapsed": false,
     "input": [
      "imageSize = 400 # 20 x 20 pixels\n",
      "\n",
      "#Set location of data files , folders\n",
      "path = \"...\"\n",
      "\n",
      "labelsInfoTrain = pd.read_csv(\"{0}/trainLabels.csv\".format(path))\n",
      "\n",
      "#Read training matrix\n",
      "xTrain = read_data(\"train\", labelsInfoTrain, imageSize, path)\n",
      "\n",
      "#Read information about test data ( IDs ).\n",
      "labelsInfoTest = pd.read_csv(\"{0}/sampleSubmission.csv\".format(path))\n",
      "\n",
      "#Read test matrix\n",
      "xTest = read_data(\"test\", labelsInfoTest, imageSize, path)\n",
      "\n",
      "yTrain = map(ord, labelsInfoTrain[\"Class\"])\n",
      "yTrain = np.array(yTrain)"
     ],
     "language": "python",
     "metadata": {},
     "outputs": [],
     "prompt_number": 2
    },
    {
     "cell_type": "heading",
     "level": 1,
     "metadata": {},
     "source": [
      "Importing main functions"
     ]
    },
    {
     "cell_type": "code",
     "collapsed": false,
     "input": [
      "from sklearn.cross_validation import cross_val_score as k_fold_CV\n",
      "from sklearn.neighbors import KNeighborsClassifier as KNN\n",
      "from sklearn.grid_search import GridSearchCV"
     ],
     "language": "python",
     "metadata": {},
     "outputs": [],
     "prompt_number": 4
    },
    {
     "cell_type": "heading",
     "level": 1,
     "metadata": {},
     "source": [
      "Running LOOF-CV with 1NN sequentially"
     ]
    },
    {
     "cell_type": "code",
     "collapsed": false,
     "input": [
      "import time\n",
      "start = time.time()\n",
      "model = KNN(n_neighbors=1)\n",
      "cvAccuracy = np.mean(k_fold_CV(model, xTrain, yTrain, cv=2, scoring=\"accuracy\"))\n",
      "print \"The 2-CV accuracy of 1NN\", cvAccuracy\n",
      "print time.time() - start, \"seconds elapsed\"\n"
     ],
     "language": "python",
     "metadata": {},
     "outputs": [
      {
       "output_type": "stream",
       "stream": "stdout",
       "text": [
        "The 2-CV accuracy of 1NN 0.365749868629\n",
        "22.0709998608 seconds elapsed\n"
       ]
      }
     ],
     "prompt_number": 8
    },
    {
     "cell_type": "heading",
     "level": 1,
     "metadata": {},
     "source": [
      "Tuning the value for k"
     ]
    },
    {
     "cell_type": "code",
     "collapsed": false,
     "input": [
      "start = time.time()\n",
      "tuned_parameters = [{\"n_neighbors\":list(range(1,5))}]\n",
      "clf = GridSearchCV( model, tuned_parameters, cv=5, scoring=\"accuracy\")\n",
      "clf.fit(xTrain, yTrain)\n",
      "print clf.grid_scores_\n",
      "print time.time() - start, \"seconds elapsed\""
     ],
     "language": "python",
     "metadata": {},
     "outputs": [
      {
       "output_type": "stream",
       "stream": "stdout",
       "text": [
        "[mean: 0.42082, std: 0.00770, params: {'n_neighbors': 1}, mean: 0.36893, std: 0.01186, params: {'n_neighbors': 2}, mean: 0.37021, std: 0.01050, params: {'n_neighbors': 3}, mean: 0.37594, std: 0.00981, params: {'n_neighbors': 4}]\n",
        "153.159999847 seconds elapsed\n"
       ]
      }
     ],
     "prompt_number": 10
    }
   ],
   "metadata": {}
  }
 ]
}